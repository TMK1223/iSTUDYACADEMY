{
 "cells": [
  {
   "cell_type": "code",
   "execution_count": 1,
   "metadata": {
    "collapsed": true
   },
   "outputs": [],
   "source": [
    "import pandas as pd\n",
    "from pandas import DataFrame\n",
    "import numpy as np\n",
    "import matplotlib.pyplot as plt\n",
    "import seaborn as sns"
   ]
  },
  {
   "cell_type": "markdown",
   "metadata": {},
   "source": [
    "# 確認テスト"
   ]
  },
  {
   "cell_type": "code",
   "execution_count": 2,
   "metadata": {},
   "outputs": [
    {
     "ename": "NameError",
     "evalue": "name 'w' is not defined",
     "output_type": "error",
     "traceback": [
      "\u001b[0;31m---------------------------------------------------------------------------\u001b[0m",
      "\u001b[0;31mNameError\u001b[0m                                 Traceback (most recent call last)",
      "\u001b[0;32m<ipython-input-2-8f9d72d19bfd>\u001b[0m in \u001b[0;36m<module>\u001b[0;34m\u001b[0m\n\u001b[0;32m----> 1\u001b[0;31m \u001b[0mu\u001b[0m \u001b[0;34m=\u001b[0m \u001b[0mnp\u001b[0m\u001b[0;34m.\u001b[0m\u001b[0mdot\u001b[0m\u001b[0;34m(\u001b[0m\u001b[0mw\u001b[0m\u001b[0;34m,\u001b[0m\u001b[0mx\u001b[0m\u001b[0;34m)\u001b[0m\u001b[0;34m+\u001b[0m\u001b[0mb\u001b[0m\u001b[0;34m\u001b[0m\u001b[0m\n\u001b[0m",
      "\u001b[0;31mNameError\u001b[0m: name 'w' is not defined"
     ]
    }
   ],
   "source": [
    "u = np.dot(w,x)+b"
   ]
  },
  {
   "cell_type": "markdown",
   "metadata": {},
   "source": [
    "# 確認テスト"
   ]
  },
  {
   "cell_type": "code",
   "execution_count": 2,
   "metadata": {},
   "outputs": [
    {
     "ename": "NameError",
     "evalue": "name 'u' is not defined",
     "output_type": "error",
     "traceback": [
      "\u001b[0;31m---------------------------------------------------------------------------\u001b[0m",
      "\u001b[0;31mNameError\u001b[0m                                 Traceback (most recent call last)",
      "\u001b[0;32m<ipython-input-2-9d597bb7af9b>\u001b[0m in \u001b[0;36m<module>\u001b[0;34m\u001b[0m\n\u001b[1;32m      1\u001b[0m \u001b[0;31m# 中間層出力\u001b[0m\u001b[0;34m\u001b[0m\u001b[0;34m\u001b[0m\u001b[0m\n\u001b[0;32m----> 2\u001b[0;31m \u001b[0mz\u001b[0m \u001b[0;34m=\u001b[0m \u001b[0mfunctions\u001b[0m\u001b[0;34m.\u001b[0m\u001b[0msigmoid\u001b[0m\u001b[0;34m(\u001b[0m\u001b[0mu\u001b[0m\u001b[0;34m)\u001b[0m\u001b[0;34m\u001b[0m\u001b[0m\n\u001b[0m\u001b[1;32m      3\u001b[0m \u001b[0mprint_vec\u001b[0m\u001b[0;34m(\u001b[0m\u001b[0;34m\"中間層出力\"\u001b[0m\u001b[0;34m,\u001b[0m \u001b[0mz\u001b[0m\u001b[0;34m)\u001b[0m\u001b[0;34m\u001b[0m\u001b[0m\n",
      "\u001b[0;31mNameError\u001b[0m: name 'u' is not defined"
     ]
    }
   ],
   "source": [
    "# 中間層出力\n",
    "z = functions.sigmoid(u)\n",
    "print_vec(\"中間層出力\", z)"
   ]
  },
  {
   "cell_type": "markdown",
   "metadata": {},
   "source": [
    "# jupyter 演習"
   ]
  },
  {
   "cell_type": "code",
   "execution_count": 3,
   "metadata": {},
   "outputs": [],
   "source": [
    "# 確率勾配降下法\n",
    "import sys, os\n",
    "sys.path.append(os.pardir)  # 親ディレクトリのファイルをインポートするための設定\n",
    "import numpy as np\n",
    "from common import functions\n",
    "import matplotlib.pyplot as plt\n",
    "\n",
    "def print_vec(text, vec):\n",
    "    print(\"*** \" + text + \" ***\")\n",
    "    print(vec)\n",
    "    #print(\"shape: \" + str(x.shape))\n",
    "    print(\"\")"
   ]
  },
  {
   "cell_type": "code",
   "execution_count": 4,
   "metadata": {},
   "outputs": [
    {
     "name": "stderr",
     "output_type": "stream",
     "text": [
      "../common/functions.py:6: RuntimeWarning: overflow encountered in exp\n",
      "  return 1/(1 + np.exp(-x))\n"
     ]
    },
    {
     "name": "stdout",
     "output_type": "stream",
     "text": [
      "##### 結果表示 #####\n"
     ]
    },
    {
     "data": {
      "image/png": "[encoded data removed]",
      "text/plain": [
       "<matplotlib.figure.Figure at 0x10d87ac88>"
      ]
     },
     "metadata": {},
     "output_type": "display_data"
    }
   ],
   "source": [
    "# サンプルとする関数\n",
    "#yの値を予想するAI\n",
    "\n",
    "def f(x):\n",
    "    y = 3 * x[0] + 2 * x[1]\n",
    "    return y\n",
    "\n",
    "# 初期設定\n",
    "def init_network():\n",
    "    # print(\"##### ネットワークの初期化 #####\")\n",
    "    network = {}\n",
    "    nodesNum = 10\n",
    "    network['W1'] = np.random.randn(2, nodesNum)\n",
    "    network['W2'] = np.random.randn(nodesNum)\n",
    "    network['b1'] = np.random.randn(nodesNum)\n",
    "    network['b2'] = np.random.randn()\n",
    "\n",
    "    # print_vec(\"重み1\", network['W1'])\n",
    "    # print_vec(\"重み2\", network['W2'])\n",
    "    # print_vec(\"バイアス1\", network['b1'])\n",
    "    # print_vec(\"バイアス2\", network['b2'])\n",
    "\n",
    "    return network\n",
    "\n",
    "# 順伝播\n",
    "def forward(network, x):\n",
    "    # print(\"##### 順伝播開始 #####\")\n",
    "    \n",
    "    W1, W2 = network['W1'], network['W2']\n",
    "    b1, b2 = network['b1'], network['b2']\n",
    "    u1 = np.dot(x, W1) + b1\n",
    "    z1 = functions.relu(u1)\n",
    "    \n",
    "    ## 試してみよう\n",
    "    z1 = functions.sigmoid(u1)\n",
    "    \n",
    "    u2 = np.dot(z1, W2) + b2\n",
    "    y = u2\n",
    "\n",
    "    # print_vec(\"総入力1\", u1)\n",
    "    # print_vec(\"中間層出力1\", z1)\n",
    "    # print_vec(\"総入力2\", u2)\n",
    "    # print_vec(\"出力1\", y)\n",
    "    # print(\"出力合計: \" + str(np.sum(y)))    \n",
    "    \n",
    "    return z1, y\n",
    "\n",
    "# 誤差逆伝播\n",
    "def backward(x, d, z1, y):\n",
    "    # print(\"\\n##### 誤差逆伝播開始 #####\")    \n",
    "\n",
    "    grad = {}\n",
    "    \n",
    "    W1, W2 = network['W1'], network['W2']\n",
    "    b1, b2 = network['b1'], network['b2']\n",
    "\n",
    "    # 出力層でのデルタ\n",
    "    delta2 = functions.d_mean_squared_error(d, y)\n",
    "    # b2の勾配\n",
    "    grad['b2'] = np.sum(delta2, axis=0)\n",
    "    # W2の勾配\n",
    "    grad['W2'] = np.dot(z1.T, delta2)\n",
    "    # 中間層でのデルタ\n",
    "    #delta1 = np.dot(delta2, W2.T) * functions.d_relu(z1)\n",
    "\n",
    "    ## 試してみよう\n",
    "    delta1 = np.dot(delta2, W2.T) * functions.d_sigmoid(z1)\n",
    "\n",
    "    delta1 = delta1[np.newaxis, :]\n",
    "    # b1の勾配\n",
    "    grad['b1'] = np.sum(delta1, axis=0)\n",
    "    x = x[np.newaxis, :]\n",
    "    # W1の勾配\n",
    "    grad['W1'] = np.dot(x.T, delta1)\n",
    "    \n",
    "    # print_vec(\"偏微分_重み1\", grad[\"W1\"])\n",
    "    # print_vec(\"偏微分_重み2\", grad[\"W2\"])\n",
    "    # print_vec(\"偏微分_バイアス1\", grad[\"b1\"])\n",
    "    # print_vec(\"偏微分_バイアス2\", grad[\"b2\"])\n",
    "\n",
    "    return grad\n",
    "\n",
    "# サンプルデータを作成\n",
    "data_sets_size = 100000\n",
    "data_sets = [0 for i in range(data_sets_size)]\n",
    "\n",
    "for i in range(data_sets_size):\n",
    "    data_sets[i] = {}\n",
    "    # ランダムな値を設定\n",
    "    data_sets[i]['x'] = np.random.rand(2)\n",
    "    \n",
    "    ## 試してみよう_入力値の設定\n",
    "    data_sets[i]['x'] = np.random.rand(2) * 10 -5 # -5〜5のランダム数値\n",
    "    \n",
    "    # 目標出力を設定\n",
    "    data_sets[i]['d'] = f(data_sets[i]['x'])\n",
    "    \n",
    "losses = []\n",
    "# 学習率\n",
    "learning_rate = 0.07\n",
    "\n",
    "# 抽出数\n",
    "epoch = 1000\n",
    "\n",
    "# パラメータの初期化\n",
    "network = init_network()\n",
    "# データのランダム抽出\n",
    "random_datasets = np.random.choice(data_sets, epoch)\n",
    "\n",
    "# 勾配降下の繰り返し\n",
    "for dataset in random_datasets:\n",
    "    x, d = dataset['x'], dataset['d']\n",
    "    z1, y = forward(network, x)\n",
    "    grad = backward(x, d, z1, y)\n",
    "    # パラメータに勾配適用\n",
    "    for key in ('W1', 'W2', 'b1', 'b2'):\n",
    "        network[key]  -= learning_rate * grad[key]\n",
    "\n",
    "    # 誤差\n",
    "    loss = functions.mean_squared_error(d, y)\n",
    "    losses.append(loss)\n",
    "\n",
    "print(\"##### 結果表示 #####\")    \n",
    "lists = range(epoch)\n",
    "\n",
    "\n",
    "plt.plot(lists, losses, '.')\n",
    "# グラフの表示\n",
    "plt.show()"
   ]
  },
  {
   "cell_type": "code",
   "execution_count": null,
   "metadata": {
    "collapsed": true
   },
   "outputs": [],
   "source": []
  }
 ],
 "metadata": {
  "kernelspec": {
   "display_name": "Python 3",
   "language": "python",
   "name": "python3"
  },
  "language_info": {
   "codemirror_mode": {
    "name": "ipython",
    "version": 3
   },
   "file_extension": ".py",
   "mimetype": "text/x-python",
   "name": "python",
   "nbconvert_exporter": "python",
   "pygments_lexer": "ipython3",
   "version": "3.6.3"
  },
  "toc": {
   "base_numbering": 1,
   "nav_menu": {},
   "number_sections": true,
   "sideBar": true,
   "skip_h1_title": false,
   "title_cell": "Table of Contents",
   "title_sidebar": "Contents",
   "toc_cell": false,
   "toc_position": {},
   "toc_section_display": true,
   "toc_window_display": false
  }
 },
 "nbformat": 4,
 "nbformat_minor": 2
}
